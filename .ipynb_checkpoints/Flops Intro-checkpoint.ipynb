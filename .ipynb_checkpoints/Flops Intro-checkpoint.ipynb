{
 "cells": [
  {
   "cell_type": "markdown",
   "id": "68aadc27",
   "metadata": {},
   "source": [
    "# What is Floating-Point Operations Per Second (FLOPS)?"
   ]
  },
  {
   "cell_type": "markdown",
   "id": "cb56e8b2",
   "metadata": {},
   "source": [
    "### It is a major factor in the comparison of the computational power of different systems, especially in those, where numerical calculations are a key point. This article aims to give a basic understanding of what FLOPS is, the importance of FLOPS as well as explore how FLOPS affects computer performance."
   ]
  },
  {
   "cell_type": "markdown",
   "id": "c517a76d",
   "metadata": {},
   "source": [
    "### A floating-point operation means that the arithmetic mathematical computation is accomplished on floating-point numbers that may include addition, subtraction, multiplication, or division. Floating point numbers are a method for the representation of real numbers with fraction parts, making it possible to maintain a high degree of accuracy in calculations of scientific and other applications where the use of exact numbers is required. As compared to integer operations, floating-point operations are capable of handling a much broader spectrum of values and may represent enormous or incredibly small numbers depending upon the specific task that is to be performed therefore they are much more suitable for tasks that require a very large amount of computations than the integer operations."
   ]
  },
  {
   "cell_type": "markdown",
   "id": "b5bcdfbc",
   "metadata": {},
   "source": [
    "### FLOPS is the ability of a computer to perform calculations especially those of floating point forms and is typically used in science-oriented computations. It measures the number of such operations that the system can execute in terms of one-second computation power. The FLOPS denotes have been taken, where a higher FLOPS means a system that has a greater capability to perform a large number of calculations over a given period of time."
   ]
  },
  {
   "cell_type": "markdown",
   "id": "8215e8ef",
   "metadata": {},
   "source": [
    "# Understanding and Estimating FLOPs in Neural Networks"
   ]
  },
  {
   "cell_type": "markdown",
   "id": "e609fc95",
   "metadata": {},
   "source": [
    "### In deep learning, FLOPs (Floating Point Operations) are a key metric for measuring the computational cost of a model. FLOPs represent the number of arithmetic operations (like multiplications and additions) required to make a forward pass through the network."
   ]
  },
  {
   "cell_type": "markdown",
   "id": "c1837dad",
   "metadata": {},
   "source": [
    "# Why is this important?\n",
    "\n",
    "### Performance optimization: Knowing the FLOPs helps assess the efficiency of a model, especially when deploying to resource-constrained environments (e.g., mobile devices or edge computing).\n",
    "\n",
    "### Comparing architectures: Two models might have similar accuracy, but one might require far fewer FLOPs, making it preferable for production."
   ]
  },
  {
   "cell_type": "markdown",
   "id": "244f1e82",
   "metadata": {},
   "source": [
    "# 🧠 What This Notebook Does\n",
    "\n",
    "### In this notebook, we calculate the FLOPs of a simple feedforward neural network using Keras. We:\n",
    "\n",
    "### Iterate through each layer of the model\n",
    "\n",
    "### Identify the number of operations based on the layer type and its input/output dimensions\n",
    "\n",
    "### Account for both core computations and activation function costs\n",
    "\n",
    "### Summarize the total FLOPs as an estimate of model complexity\n",
    "\n",
    "### This serves as both a learning tool and a practical method to benchmark model efficiency."
   ]
  },
  {
   "cell_type": "code",
   "execution_count": null,
   "id": "f141fa05",
   "metadata": {},
   "outputs": [],
   "source": []
  }
 ],
 "metadata": {
  "kernelspec": {
   "display_name": "Python 3 (ipykernel)",
   "language": "python",
   "name": "python3"
  },
  "language_info": {
   "codemirror_mode": {
    "name": "ipython",
    "version": 3
   },
   "file_extension": ".py",
   "mimetype": "text/x-python",
   "name": "python",
   "nbconvert_exporter": "python",
   "pygments_lexer": "ipython3",
   "version": "3.11.3"
  }
 },
 "nbformat": 4,
 "nbformat_minor": 5
}
